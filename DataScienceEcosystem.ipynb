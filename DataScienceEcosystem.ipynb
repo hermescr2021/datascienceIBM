{
 "cells": [
  {
   "cell_type": "markdown",
   "id": "3b61ed7d",
   "metadata": {},
   "source": [
    "# Data Science Tools and Ecosystem\n",
    "In this notebook, Data Science Tools and Ecosystem are summarized.\n",
    "\n",
    "**Objectives:**\n",
    "\n",
    "- **Identify popular programming languages in Data Science.**\n",
    "- **Recognize commonly used libraries for Data Science tasks.**\n",
    "- **Understand key tools in Data Science development environments.**\n",
    "- **Explore examples of evaluating arithmetic expressions in Python.**\n",
    "- **Learn basic formatting with Markdown in a Jupyter Notebook.**\n",
    "\n",
    "## Some of the popular languages that Data Scientists use are:\n",
    "1. Python\n",
    "2. R\n",
    "3. SQL\n",
    "\n",
    "## Some of the commonly used libraries used by Data Scientists include:\n",
    "1. Pandas (Python)\n",
    "2. NumPy (Python)\n",
    "3. ggplot2 (R)\n",
    "4. Scikit-Learn (Python)\n",
    "\n",
    "## Data Science Tools\n",
    "\n",
    "| Development Environment Tools |\n",
    "| ---------------------------- |\n",
    "| Jupyter Notebooks            |\n",
    "| RStudio                      |\n",
    "| VS Code with Python/R Tools  |\n"
   ]
  },
  {
   "cell_type": "code",
   "execution_count": 4,
   "id": "a480a99a",
   "metadata": {},
   "outputs": [
    {
     "name": "stdout",
     "output_type": "stream",
     "text": [
      "17\n"
     ]
    }
   ],
   "source": [
    "# This is a simple arithmetic expression to multiply then add integers.\n",
    "result = (3 * 4) + 5\n",
    "print(result)"
   ]
  },
  {
   "cell_type": "code",
   "execution_count": 5,
   "id": "f9ca4987",
   "metadata": {},
   "outputs": [
    {
     "name": "stdout",
     "output_type": "stream",
     "text": [
      "3.3333333333333335\n"
     ]
    }
   ],
   "source": [
    "# This will convert 200 minutes to hours by dividing by 60.\n",
    "minutes = 200\n",
    "hours = minutes / 60\n",
    "print(hours)"
   ]
  },
  {
   "cell_type": "markdown",
   "id": "6b67e8bf",
   "metadata": {},
   "source": [
    "## Author\n",
    "Gustavo Peraza"
   ]
  }
 ],
 "metadata": {
  "kernelspec": {
   "display_name": "Python 3 (ipykernel)",
   "language": "python",
   "name": "python3"
  },
  "language_info": {
   "codemirror_mode": {
    "name": "ipython",
    "version": 3
   },
   "file_extension": ".py",
   "mimetype": "text/x-python",
   "name": "python",
   "nbconvert_exporter": "python",
   "pygments_lexer": "ipython3",
   "version": "3.11.5"
  }
 },
 "nbformat": 4,
 "nbformat_minor": 5
}
